{
 "cells": [
  {
   "cell_type": "markdown",
   "metadata": {},
   "source": [
    " # Importando a biblioteca pandas e dando-lhe um apelido"
   ]
  },
  {
   "cell_type": "code",
   "execution_count": 11,
   "metadata": {},
   "outputs": [],
   "source": [
    "import pandas as pd"
   ]
  },
  {
   "cell_type": "markdown",
   "metadata": {},
   "source": [
    " # Carregando o json em um dataframe"
   ]
  },
  {
   "cell_type": "code",
   "execution_count": 12,
   "metadata": {},
   "outputs": [
    {
     "name": "stdout",
     "output_type": "stream",
     "text": [
      "               CreateDate         EmissionDate  Discount  NFeNumber  NFeID  \\\n",
      "0  2021-05-24T20:21:34.79  2021-05-24T00:00:00         0        501      1   \n",
      "1  2021-05-24T20:21:34.79  2021-05-24T00:00:00         0        502      2   \n",
      "2  2021-05-24T20:21:34.79  2021-05-24T00:00:00         0        503      3   \n",
      "\n",
      "                                            ItemList  \n",
      "0  [{'ProductName': 'Rice', 'Value': 35.55, 'Quan...  \n",
      "1  [{'ProductName': 'Tomate', 'Value': 12.25, 'Qu...  \n",
      "2  [{'ProductName': 'Beer', 'Value': 9.0, 'Quanti...  \n"
     ]
    }
   ],
   "source": [
    "df = pd.read_json('data.json')\n",
    "print(df)"
   ]
  },
  {
   "cell_type": "markdown",
   "metadata": {},
   "source": [
    " # Expandindo os itens da coluna ItemList"
   ]
  },
  {
   "cell_type": "code",
   "execution_count": 13,
   "metadata": {},
   "outputs": [
    {
     "name": "stdout",
     "output_type": "stream",
     "text": [
      "               CreateDate         EmissionDate  Discount  NFeNumber  NFeID  \\\n",
      "0  2021-05-24T20:21:34.79  2021-05-24T00:00:00         0        501      1   \n",
      "0  2021-05-24T20:21:34.79  2021-05-24T00:00:00         0        501      1   \n",
      "0  2021-05-24T20:21:34.79  2021-05-24T00:00:00         0        501      1   \n",
      "1  2021-05-24T20:21:34.79  2021-05-24T00:00:00         0        502      2   \n",
      "1  2021-05-24T20:21:34.79  2021-05-24T00:00:00         0        502      2   \n",
      "2  2021-05-24T20:21:34.79  2021-05-24T00:00:00         0        503      3   \n",
      "2  2021-05-24T20:21:34.79  2021-05-24T00:00:00         0        503      3   \n",
      "2  2021-05-24T20:21:34.79  2021-05-24T00:00:00         0        503      3   \n",
      "\n",
      "                                            ItemList  \n",
      "0  {'ProductName': 'Rice', 'Value': 35.55, 'Quant...  \n",
      "0  {'ProductName': 'Flour', 'Value': 11.55, 'Quan...  \n",
      "0  {'ProductName': 'Bean', 'Value': 27.15, 'Quant...  \n",
      "1  {'ProductName': 'Tomate', 'Value': 12.25, 'Qua...  \n",
      "1  {'ProductName': 'Pasta', 'Value': 7.55, 'Quant...  \n",
      "2  {'ProductName': 'Beer', 'Value': 9.0, 'Quantit...  \n",
      "2  {'ProductName': 'French fries', 'Value': 10.99...  \n",
      "2  {'ProductName': 'Ice cream', 'Value': 27.15, '...  \n"
     ]
    }
   ],
   "source": [
    "df_expanded = df.explode('ItemList')\n",
    "print(df_expanded)"
   ]
  },
  {
   "cell_type": "markdown",
   "metadata": {},
   "source": [
    "# Primeira metade da divisão do dataframe no modelo relacional, contendo os detalhes da nota fiscal"
   ]
  },
  {
   "cell_type": "code",
   "execution_count": 14,
   "metadata": {},
   "outputs": [
    {
     "name": "stdout",
     "output_type": "stream",
     "text": [
      "               CreateDate         EmissionDate  Discount  NFeNumber  NFeID\n",
      "0  2021-05-24T20:21:34.79  2021-05-24T00:00:00         0        501      1\n",
      "0  2021-05-24T20:21:34.79  2021-05-24T00:00:00         0        501      1\n",
      "0  2021-05-24T20:21:34.79  2021-05-24T00:00:00         0        501      1\n",
      "1  2021-05-24T20:21:34.79  2021-05-24T00:00:00         0        502      2\n",
      "1  2021-05-24T20:21:34.79  2021-05-24T00:00:00         0        502      2\n",
      "2  2021-05-24T20:21:34.79  2021-05-24T00:00:00         0        503      3\n",
      "2  2021-05-24T20:21:34.79  2021-05-24T00:00:00         0        503      3\n",
      "2  2021-05-24T20:21:34.79  2021-05-24T00:00:00         0        503      3\n"
     ]
    }
   ],
   "source": [
    "df_nfe_details = df_expanded.drop('ItemList', axis=1)\n",
    "print(df_nfe_details)"
   ]
  },
  {
   "cell_type": "markdown",
   "metadata": {},
   "source": [
    "# Segunda metade da divisão do dataframe no modelo relacional, contendo os itens da nota fiscal em si"
   ]
  },
  {
   "cell_type": "code",
   "execution_count": 15,
   "metadata": {},
   "outputs": [
    {
     "name": "stdout",
     "output_type": "stream",
     "text": [
      "    ProductName  Value  Quantity\n",
      "0          Rice  35.55         2\n",
      "1         Flour  11.55         5\n",
      "2          Bean  27.15         7\n",
      "3        Tomate  12.25        10\n",
      "4         Pasta   7.55         5\n",
      "5          Beer   9.00         6\n",
      "6  French fries  10.99         2\n",
      "7     Ice cream  27.15         1\n"
     ]
    }
   ],
   "source": [
    "df_items = pd.json_normalize(df_expanded['ItemList'])\n",
    "print(df_items)"
   ]
  }
 ],
 "metadata": {
  "kernelspec": {
   "display_name": "Python 3",
   "language": "python",
   "name": "python3"
  },
  "language_info": {
   "codemirror_mode": {
    "name": "ipython",
    "version": 3
   },
   "file_extension": ".py",
   "mimetype": "text/x-python",
   "name": "python",
   "nbconvert_exporter": "python",
   "pygments_lexer": "ipython3",
   "version": "3.11.5"
  },
  "orig_nbformat": 4
 },
 "nbformat": 4,
 "nbformat_minor": 2
}
